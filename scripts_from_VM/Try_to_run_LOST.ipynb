{
 "cells": [
  {
   "cell_type": "code",
   "execution_count": 22,
   "id": "67445307",
   "metadata": {},
   "outputs": [
    {
     "ename": "SyntaxError",
     "evalue": "invalid syntax (1691996875.py, line 1)",
     "output_type": "error",
     "traceback": [
      "\u001b[0;36m  Cell \u001b[0;32mIn [22], line 1\u001b[0;36m\u001b[0m\n\u001b[0;31m    st hello\u001b[0m\n\u001b[0m       ^\u001b[0m\n\u001b[0;31mSyntaxError\u001b[0m\u001b[0;31m:\u001b[0m invalid syntax\n"
     ]
    }
   ],
   "source": [
    "st hello"
   ]
  },
  {
   "cell_type": "code",
   "execution_count": null,
   "id": "e93746bc",
   "metadata": {},
   "outputs": [],
   "source": []
  },
  {
   "cell_type": "code",
   "execution_count": null,
   "id": "af475125",
   "metadata": {},
   "outputs": [],
   "source": []
  },
  {
   "cell_type": "code",
   "execution_count": null,
   "id": "608de71e",
   "metadata": {},
   "outputs": [],
   "source": []
  },
  {
   "cell_type": "code",
   "execution_count": 3,
   "id": "65e65a5a",
   "metadata": {},
   "outputs": [],
   "source": [
    "import sys\n",
    "from parcels import Field, FieldSet, ParticleSet, JITParticle\n",
    "from parcels import RectilinearZGrid, plotTrajectoriesFile, AdvectionRK4,ErrorCode\n",
    "import numpy as np\n",
    "import os\n",
    "from datetime import timedelta\n",
    "import datetime\n",
    "import xarray as xr\n",
    "import netCDF4\n",
    "from scipy import interpolate\n",
    "import math\n",
    "import pygmt\n",
    "import parcels.rng as ParcelsRandom\n",
    "\n"
   ]
  },
  {
   "cell_type": "code",
   "execution_count": null,
   "id": "6b651967",
   "metadata": {},
   "outputs": [],
   "source": [
    "\n",
    "longitude = parser.add_argument('Longitude', required=True)  # add args\n",
    "latitude = parser.add_argument('Latitude', required=True)\n",
    "ttime = parser.add_argument('Start_Date', required=True)\n",
    "duration = parser.add_argument('Duration', required=True)\n",
    "radius = parser.add_argument('Deployment_radius', required=True)\n",
    "object_type = parser.add_argument('Object_type', required=True)\n"
   ]
  },
  {
   "cell_type": "code",
   "execution_count": null,
   "id": "d88768a4",
   "metadata": {},
   "outputs": [],
   "source": []
  },
  {
   "cell_type": "code",
   "execution_count": 29,
   "id": "b11b8a98",
   "metadata": {},
   "outputs": [],
   "source": [
    "LONGITUDE = 10\n",
    "LATITUDE = -45\n",
    "Date = '2021/05/15 00:00:00'\n",
    "Duration = 1 ### number of days\n",
    "Deployment_Radius = 4\n",
    "Object_Type = 'PIW State Unknown'\n"
   ]
  },
  {
   "cell_type": "code",
   "execution_count": 31,
   "id": "cb80e2cf",
   "metadata": {},
   "outputs": [],
   "source": [
    "%run LOST-Copy1.py LONGITUDE LATITUDE Date Duration Deployment_Radius \"Object_Type\" \"Output file name\"\n",
    "\n"
   ]
  },
  {
   "cell_type": "code",
   "execution_count": null,
   "id": "f2f4129b",
   "metadata": {},
   "outputs": [],
   "source": []
  },
  {
   "cell_type": "code",
   "execution_count": null,
   "id": "42be3964",
   "metadata": {},
   "outputs": [],
   "source": []
  },
  {
   "cell_type": "code",
   "execution_count": null,
   "id": "a723cb3f",
   "metadata": {},
   "outputs": [],
   "source": []
  },
  {
   "cell_type": "code",
   "execution_count": null,
   "id": "ba3d26b6",
   "metadata": {},
   "outputs": [],
   "source": []
  },
  {
   "cell_type": "code",
   "execution_count": null,
   "id": "0f1f1908",
   "metadata": {},
   "outputs": [],
   "source": []
  },
  {
   "cell_type": "code",
   "execution_count": 27,
   "id": "67a538d1",
   "metadata": {},
   "outputs": [
    {
     "name": "stdout",
     "output_type": "stream",
     "text": [
      "['LOST.py', '10', '-45', '2021/05/15 00:00:00', '1', '4', 'PIW State Unknown', 'output_file']\n",
      "10.0\n",
      "PIW State Unknown\n"
     ]
    },
    {
     "name": "stderr",
     "output_type": "stream",
     "text": [
      "INFO: Compiled ArrayJITParticleAdvectionRK4 ==> /tmp/parcels-1001/lib3e31b1cb50a02c7d2424fb6e5fd7fcd8_0.so\n"
     ]
    },
    {
     "name": "stdout",
     "output_type": "stream",
     "text": [
      "lost has finished and data is stored in output_file.zarr\n"
     ]
    }
   ],
   "source": [
    "%run LOST.py 10 -45 '2021/05/15 00:00:00' 1 4 'PIW State Unknown' 'output_file'"
   ]
  },
  {
   "cell_type": "code",
   "execution_count": null,
   "id": "d67c2ea4",
   "metadata": {},
   "outputs": [],
   "source": []
  },
  {
   "cell_type": "code",
   "execution_count": 28,
   "id": "9b8be48f",
   "metadata": {},
   "outputs": [],
   "source": [
    "%run LOST-Copy1.py 10 -45 '2021/05/15 00:00:00' 1 4 'PIW State Unknown' 'output_file'"
   ]
  },
  {
   "cell_type": "code",
   "execution_count": null,
   "id": "7f58fb40",
   "metadata": {},
   "outputs": [],
   "source": []
  },
  {
   "cell_type": "code",
   "execution_count": null,
   "id": "50063a64",
   "metadata": {},
   "outputs": [],
   "source": []
  },
  {
   "cell_type": "code",
   "execution_count": null,
   "id": "586e54d5",
   "metadata": {},
   "outputs": [],
   "source": []
  },
  {
   "cell_type": "code",
   "execution_count": null,
   "id": "f0ede20d",
   "metadata": {},
   "outputs": [],
   "source": []
  },
  {
   "cell_type": "code",
   "execution_count": null,
   "id": "8f22b57c",
   "metadata": {},
   "outputs": [],
   "source": []
  },
  {
   "cell_type": "code",
   "execution_count": null,
   "id": "2856d89a",
   "metadata": {},
   "outputs": [],
   "source": []
  },
  {
   "cell_type": "code",
   "execution_count": null,
   "id": "fb02aa6a",
   "metadata": {},
   "outputs": [],
   "source": []
  },
  {
   "cell_type": "code",
   "execution_count": 7,
   "id": "855e2f7b",
   "metadata": {},
   "outputs": [],
   "source": [
    "def lost_func(longitude, latitude, ttime, duration, radius, object_type):\n",
    "\n",
    "    def object_name(uw,vw,state):\n",
    "        if state == 'PIW State Unknown':\n",
    "            ang = 40\n",
    "            uwi = ((uw * 0.01) + 0.08)*math.sin(ang)\n",
    "            vwi = ((vw * 0.01) + 0.08)*math.cos(ang)\n",
    "        elif state == 'PIW with lifejacket':\n",
    "            ang = 45\n",
    "            uwi = ((uw * 0.02))*math.sin(ang)\n",
    "            vwi = ((vw * 0.02))*math.cos(ang)\n",
    "        elif state == 'PIW verticle':\n",
    "            ang = 25        \n",
    "            uwi = ((uw * 0.01) + 0.08)*math.sin(ang)\n",
    "            vwi = ((vw * 0.01) + 0.08)*math.cos(ang)\n",
    "        elif state == 'PIW sitting \\ huddled':\n",
    "            ang = 25        \n",
    "            uwi = ((uw * 0.02) + 0.01)*math.sin(ang)\n",
    "            vwi = ((vw * 0.02) + 0.01)*math.cos(ang)\n",
    "        elif state == 'PIW verticle':\n",
    "            ang = 40\n",
    "            uwi = ((uw * 0.02) + 0.08)*math.sin(ang)\n",
    "            vwi = ((vw * 0.02) + 0.08)*math.cos(ang)\n",
    "        elif state == 'No ballast pockets, general type':\n",
    "            ang = 38\n",
    "            uwi = ((uw * 0.05) + 0.03)*math.sin(ang)\n",
    "            vwi = ((vw * 0.05) + 0.03)*math.cos(ang)\n",
    "        elif state == 'No ballast pockets, no canopy, no drouge':\n",
    "            ang = 32\n",
    "            uwi = ((uw * 0.06) + 0.20)*math.sin(ang)\n",
    "            vwi = ((vw * 0.06) + 0.20)*math.cos(ang)\n",
    "        elif state == 'No ballast pockets, with canopy, with drouge':\n",
    "            ang = 38\n",
    "            uwi = ((uw * 0.03))*math.sin(ang)\n",
    "            vwi = ((vw * 0.03))*math.cos(ang)\n",
    "        elif state == 'Shallow ballast pocket with canopy, Capsized':\n",
    "            ang = 12\n",
    "            uwi = ((uw * 0.02) - 0.10)*math.sin(ang)\n",
    "            vwi = ((vw * 0.02) - 0.10)*math.cos(ang)     \n",
    "        elif state == '4 to 6 man, with canopy, with  drouge':\n",
    "            ang = 20\n",
    "            uwi = ((uw * 0.03) + 0.04)*math.sin(ang)\n",
    "            vwi = ((vw * 0.03) + 0.04)*math.cos(ang)\n",
    "        elif state == '15 to 25 man, with canopy, with  drouge':\n",
    "            ang = 15\n",
    "            uwi = ((uw * 0.04) + 0.08)*math.sin(ang)\n",
    "            vwi = ((vw * 0.04) + 0.08)*math.cos(ang)\n",
    "        elif state == '4 to 6 man, with canopy, no drouge':\n",
    "            ang = 32\n",
    "            uwi = ((uw * 0.04) + 0.12)*math.sin(ang)\n",
    "            vwi = ((vw * 0.04) + 0.12)*math.cos(ang)\n",
    "        elif state == 'Sea kayak, with person':\n",
    "            ang = 20\n",
    "            uwi = ((uw * 0.01) + 0.26)*math.sin(ang)\n",
    "            vwi = ((vw * 0.01) + 0.26)*math.cos(ang)\n",
    "        elif state == 'Homemade wood raft':\n",
    "            ang = 25\n",
    "            uwi = ((uw * 0.02) + 0.18)*math.sin(ang)\n",
    "            vwi = ((vw * 0.02) + 0.18)*math.cos(ang)\n",
    "        elif state == 'Homemade wood raft, with sail':\n",
    "            ang = 45\n",
    "            uwi = ((uw * 0.08) + 0.18)*math.sin(ang)\n",
    "            vwi = ((vw * 0.08) + 0.18)*math.cos(ang)       \n",
    "        elif state == 'Surfboard with person':\n",
    "            ang = 20\n",
    "            uwi = ((uw * 0.02))*math.sin(ang)\n",
    "            vwi = ((vw * 0.02))*math.cos(ang)\n",
    "        elif state == 'Windsurfer with person, sail and mast in the water':\n",
    "            ang = 16\n",
    "            uwi = ((uw * 0.03) + 0.1)*math.sin(ang)\n",
    "            vwi = ((vw * 0.03) + 0.1)*math.cos(ang)\n",
    "        elif state == 'Mono hull, keel, medium displacement':\n",
    "            ang = 65\n",
    "            uwi = ((uw * 0.04))*math.sin(ang)\n",
    "            vwi = ((vw * 0.04))*math.cos(ang)     \n",
    "        elif state == 'Enclosed Lifeboat':\n",
    "            ang = 30\n",
    "            uwi = ((uw * 0.04) - 0.08)*math.sin(ang)\n",
    "            vwi = ((vw * 0.04) - 0.08)*math.cos(ang)\n",
    "        elif state == 'Vessel with outboard motors no drouge':\n",
    "            ang = 35\n",
    "            uwi = ((uw * 0.07) + 0.04)*math.sin(ang)\n",
    "            vwi = ((vw * 0.07) + 0.04)*math.cos(ang)\n",
    "        elif state == 'Flat bottomed Boat, Boston whaler':\n",
    "            ang = 30\n",
    "            uwi = ((uw * 0.04) + 0.04)*math.sin(ang)\n",
    "            vwi = ((vw * 0.04) + 0.04)*math.cos(ang)\n",
    "        elif state == 'V hull boat':\n",
    "            ang = 25\n",
    "            uwi = ((uw * 0.0051) + 0.10)*math.sin(ang)\n",
    "            vwi = ((vw * 0.0051) + 0.10)*math.cos(ang)\n",
    "    #     elif state == 'V hull boat':\n",
    "    #         uwi = (uw * 0.03) + 0.08\n",
    "    #         vwi = (vw * 0.03) + 0.08\n",
    "        elif state == 'Sport fisher, centre open console':\n",
    "            ang = 30\n",
    "            uwi = ((uw * 0.06) + 0.09)*math.sin(ang)\n",
    "            vwi = ((vw * 0.06) + 0.09)*math.cos(ang)\n",
    "        elif state == 'Commercial fishing vessel type unknown':\n",
    "            ang = 65\n",
    "            uwi = ((uw * 0.04) + 0.06)*math.sin(ang)\n",
    "            vwi = ((vw * 0.04) + 0.06)*math.cos(ang)\n",
    "        elif state == 'Coastal freighter':\n",
    "            ang = 65\n",
    "            uwi = ((uw * 0.03))*math.sin(ang)\n",
    "            vwi = ((vw * 0.03))*math.cos(ang)\n",
    "        elif state == 'Fishing vessel general debris':\n",
    "            ang = 15\n",
    "            uwi = ((uw * 0.02))*math.sin(ang)\n",
    "            vwi = ((vw * 0.02))*math.cos(ang)\n",
    "        elif state == 'Cubic meter bait box, loading unknown':\n",
    "            ang = 30\n",
    "            uwi = ((uw * 0.04) + 0.04)*math.sin(ang)\n",
    "            vwi = ((vw * 0.04) + 0.04)*math.cos(ang)\n",
    "        else:\n",
    "            print (\"object note available\")\n",
    "        print (state)\n",
    "        return uwi, vwi,state\n",
    "\n",
    "    def loading_data(longitude, latitude,\n",
    "                     date=ttime, period = duration,\n",
    "                     ocean='cmems_interp.nc',\n",
    "                     winds='era5.nc',\n",
    "                     path = '../data/'):\n",
    "\n",
    "        '''Function to load and interp appropriately the input data. \n",
    "        Usually this should remain untouched. To select an individual \n",
    "        wind and ocean product, simply change the path and file name.'''\n",
    "\n",
    "        # Load ocean (nc) and winds (ds) data\n",
    "        nc = xr.open_dataset(path+ocean)\n",
    "        ds = xr.open_dataset(path+winds)\n",
    "\n",
    "        # Select the appropriate time period for model\n",
    "        start_date = datetime.datetime.strptime( date, '%Y/%m/%d %H:%M:%S')\n",
    "        final_date = (datetime.datetime.strptime(date, '%Y/%m/%d %H:%M:%S') + \n",
    "                      datetime.timedelta(days=np.float64(period)))\n",
    "\n",
    "        if final_date > datetime.datetime.now() + datetime.timedelta(days=10):\n",
    "\n",
    "            print('Forecast exceeds the limitation of currently available data '\n",
    "                  'try reduce the model run period')\n",
    "            return\n",
    "\n",
    "        nc = nc.sel(longitude=slice(longitude-10,longitude+10),\n",
    "                    latitude=slice(latitude-10,latitude+10),\n",
    "                    time=slice(start_date,final_date))\n",
    "        ds = ds.sel(longitude=slice(longitude-10,longitude+10),\n",
    "                    latitude=slice(latitude+10,latitude-10),\n",
    "                    time=slice(start_date,final_date))\n",
    "\n",
    "        uo = nc.uo.data\n",
    "        vo = nc.vo.data\n",
    "        uo[(uo==0)] = np.nan\n",
    "        vo[(vo==0)] = np.nan\n",
    "        lonu = nc.longitude.data\n",
    "        latu = nc.latitude .data\n",
    "        tim = nc.time\n",
    "\n",
    "        # uw = ncw.ugrd10m.data\n",
    "        # vw = ncw.vgrd10m.data/\n",
    "        lonw = ds.longitude.data\n",
    "        latw = ds.latitude.data\n",
    "\n",
    "        timew = np.linspace(0,len(ds.time.data),len(ds.time.data))\n",
    "        x = lonw\n",
    "        y = latw\n",
    "        xx, yy = np.meshgrid(x, y)\n",
    "\n",
    "        t = timew\n",
    "\n",
    "        uw = ds.u10\n",
    "        vw = ds.v10\n",
    "\n",
    "        lonU,latU = np.meshgrid(*(lonw,latw))\n",
    "        lonU = np.ravel(lonU)\n",
    "        latU = np.ravel(latU)\n",
    "\n",
    "        uwind = np.zeros((len(nc.time),uo.shape[2], uo.shape[3]))\n",
    "        vwind = np.zeros((len(nc.time),uo.shape[2], uo.shape[3]))\n",
    "        reg = str(lonU.min())+\"/\"+str(lonU.max())+\"/\"+str(latU.min())+\"/\"+str(latU.max())+\"/\"\n",
    "\n",
    "        for i in range(len(nc.time)):\n",
    "            Uw = pygmt.blockmean(x=lonU,y=latU,z=np.ravel(uw[i]),spacing=1/12,region=reg)\n",
    "            uwind[i] = pygmt.sphinterpolate(Uw)\n",
    "            Vw = pygmt.blockmean(x=lonU,y=latU,z=np.ravel(vw[i]),spacing=1/12,region=reg)\n",
    "            vwind[i] = pygmt.sphinterpolate(Vw)\n",
    "\n",
    "        return uo,vo,uwind,vwind,lonu,latu,tim\n",
    "\n",
    "    def get_final_velocities(wu,wv,uo,vo):\n",
    "\n",
    "        a = wu\n",
    "        b = wv\n",
    "\n",
    "        U = uo[:,0] +a\n",
    "        V = vo[:,0] +b\n",
    "\n",
    "        return(U,V)\n",
    "\n",
    "    def running_LOST(lon_dep,lat_dep,U,V,lon_grid,lat_grid,tim_grid,period,box_radius=radius,output_file_name='output_file_name'):\n",
    "\n",
    "        # Needed to add a bit of stochasticity\n",
    "        Kh_zonal =      100 #2K(Zn + 0.5K'(Zn).math.fabs) For fixed values\n",
    "        Kh_meridional = 100 #2K(Zn + 0.5K'(Zn).math.fabs) For fixed values\n",
    "\n",
    "        def BrownianMotion2D(particle, fieldset, time):\n",
    "            # Kernel for simple Brownian particle diffusion in zonal and meridional direction.\n",
    "            # Assumes that fieldset has fields Kh_zonal and Kh_meridional\n",
    "            r = 1/3.\n",
    "            kh_meridional = fieldset.Kh_meridional[time,particle.depth,particle.lat,particle.lon]\n",
    "            particle.lat += ParcelsRandom.uniform(-1., 1.)*math.sqrt(2*math.fabs(particle.dt)*kh_meridional/r)\n",
    "            kh_zonal = fieldset.Kh_zonal[time,particle.depth,particle.lat,particle.lon]\n",
    "            particle.lon += ParcelsRandom.uniform(-1., 1.)*math.sqrt(2*math.fabs(particle.dt)*kh_zonal/r)\n",
    "\n",
    "        data = {'U': U, 'V': V}\n",
    "        lon_s = lon_grid\n",
    "        lat_s = lat_grid\n",
    "        times = tim_grid\n",
    "\n",
    "        dimensions = {'U': {'time':times,'lon': lon_s, 'lat': lat_s},\n",
    "                      'V': {'time':times,'lon': lon_s, 'lat': lat_s}}\n",
    "        fieldset = FieldSet.from_data(data, dimensions,allow_time_extrapolation=True)\n",
    "\n",
    "        lonW = lon_dep - box_radius\n",
    "        lonE = lon_dep + box_radius\n",
    "        latS = lat_dep - box_radius\n",
    "        latN = lat_dep + box_radius\n",
    "\n",
    "        lons, lats = np.meshgrid(np.linspace(lonW,lonE,5), np.linspace(latS,latN,5))\n",
    "\n",
    "        pset = ParticleSet.from_list(fieldset=fieldset, pclass=JITParticle, lon=lons, \n",
    "                                     lat=lats)#,time=518400 + 40680) # 12/10/22 @ 11h30\n",
    "\n",
    "        file_name = output_file_name\n",
    "        try: os.remove(file_name)\n",
    "        except:  pass\n",
    "\n",
    "        output_file = pset.ParticleFile(name=file_name,outputdt=timedelta(minutes=15))\n",
    "        kernels = pset.Kernel(AdvectionRK4)#  + BrownianMotion2D\n",
    "\n",
    "        def DeleteParticle(particle, fieldset, time):\n",
    "            print(\"deleting particle at (%g %g %g) at %g\" % (particle.lon, particle.lat, particle.depth, time))\n",
    "            particle.delete()\n",
    "\n",
    "        pset.execute(kernels, runtime=timedelta(days=period),dt=timedelta(hours=1),output_file=output_file,\n",
    "                     recovery={ErrorCode.ErrorOutOfBounds: DeleteParticle})\n",
    "\n",
    "        print('lost has finished and data is stored in ' + str(file_name) + \".zarr\")\n",
    "\n",
    "    def LOST(lon_dep,lat_dep,object_sar,date=ttime,period=duration,box_radius=radius,output_file_name='output_file_name'):\n",
    "\n",
    "        uo,vo,unew,vnew,lon_grid,lat_grid,tim_grid = loading_data(lon_dep,lat_dep,date = date, period=period)\n",
    "\n",
    "        wu,wv,state = object_name(unew, vnew, state= object_sar)\n",
    "\n",
    "        U,V = get_final_velocities(wu,wv,uo,vo)\n",
    "\n",
    "        running_LOST(lon_dep,lat_dep,U,V,lon_grid,lat_grid,tim_grid,period,box_radius=box_radius,output_file_name=output_file_name)\n",
    "\n",
    "    print(sys.argv)\n",
    "    lon_dep    = np.float64(sys.argv[1]) # longitudinal position of particle deployment\n",
    "    lat_dep    = np.float64(sys.argv[2]) # latitudinal position of particle deployment\n",
    "    date       = sys.argv[3] # start date of simulation\n",
    "    period     = np.float64(sys.argv[4]) # length of run in days\n",
    "    box_radius = np.float64(sys.argv[5]) # deployment box (optional) radius in degrees\n",
    "    object_sar = sys.argv[6] # object needs to be chosen from the object_name function\n",
    "    output_file_name = sys.argv[7]\n",
    "\n",
    "    # example script: python LOST.py 10 -45 '2021/05/15 00:00:00' 2 4 'PIW State Unknown' \"output_file\"\n",
    "\n",
    "    print(lon_dep)\n",
    "    LOST(lon_dep,lat_dep,object_sar,date,period,box_radius,output_file_name)\n"
   ]
  },
  {
   "cell_type": "code",
   "execution_count": 8,
   "id": "3ab47892",
   "metadata": {},
   "outputs": [
    {
     "name": "stdout",
     "output_type": "stream",
     "text": [
      "['/home/hacker/miniconda3/envs/lost_hackathon/lib/python3.10/site-packages/ipykernel_launcher.py', '-f', '/home/hacker/.local/share/jupyter/runtime/kernel-de620588-d579-4aef-aa59-659dd81ca080.json']\n"
     ]
    },
    {
     "ename": "ValueError",
     "evalue": "could not convert string to float: '-f'",
     "output_type": "error",
     "traceback": [
      "\u001b[0;31m---------------------------------------------------------------------------\u001b[0m",
      "\u001b[0;31mValueError\u001b[0m                                Traceback (most recent call last)",
      "Cell \u001b[0;32mIn [8], line 1\u001b[0m\n\u001b[0;32m----> 1\u001b[0m \u001b[43mlost_func\u001b[49m\u001b[43m(\u001b[49m\u001b[38;5;241;43m10\u001b[39;49m\u001b[43m,\u001b[49m\u001b[43m \u001b[49m\u001b[38;5;241;43m-\u001b[39;49m\u001b[38;5;241;43m45\u001b[39;49m\u001b[43m,\u001b[49m\u001b[43m \u001b[49m\u001b[38;5;124;43m'\u001b[39;49m\u001b[38;5;124;43m2021/05/15 00:00:00\u001b[39;49m\u001b[38;5;124;43m'\u001b[39;49m\u001b[43m,\u001b[49m\u001b[43m \u001b[49m\u001b[38;5;241;43m1\u001b[39;49m\u001b[43m,\u001b[49m\u001b[43m \u001b[49m\u001b[38;5;241;43m1\u001b[39;49m\u001b[43m,\u001b[49m\u001b[43m \u001b[49m\u001b[38;5;124;43m'\u001b[39;49m\u001b[38;5;124;43mPIW State Unknown\u001b[39;49m\u001b[38;5;124;43m'\u001b[39;49m\u001b[43m)\u001b[49m\n",
      "Cell \u001b[0;32mIn [7], line 262\u001b[0m, in \u001b[0;36mlost_func\u001b[0;34m(longitude, latitude, ttime, duration, radius, object_type)\u001b[0m\n\u001b[1;32m    259\u001b[0m     running_LOST(lon_dep,lat_dep,U,V,lon_grid,lat_grid,tim_grid,period,box_radius\u001b[38;5;241m=\u001b[39mbox_radius,output_file_name\u001b[38;5;241m=\u001b[39moutput_file_name)\n\u001b[1;32m    261\u001b[0m \u001b[38;5;28mprint\u001b[39m(sys\u001b[38;5;241m.\u001b[39margv)\n\u001b[0;32m--> 262\u001b[0m lon_dep    \u001b[38;5;241m=\u001b[39m \u001b[43mnp\u001b[49m\u001b[38;5;241;43m.\u001b[39;49m\u001b[43mfloat64\u001b[49m\u001b[43m(\u001b[49m\u001b[43msys\u001b[49m\u001b[38;5;241;43m.\u001b[39;49m\u001b[43margv\u001b[49m\u001b[43m[\u001b[49m\u001b[38;5;241;43m1\u001b[39;49m\u001b[43m]\u001b[49m\u001b[43m)\u001b[49m \u001b[38;5;66;03m# longitudinal position of particle deployment\u001b[39;00m\n\u001b[1;32m    263\u001b[0m lat_dep    \u001b[38;5;241m=\u001b[39m np\u001b[38;5;241m.\u001b[39mfloat64(sys\u001b[38;5;241m.\u001b[39margv[\u001b[38;5;241m2\u001b[39m]) \u001b[38;5;66;03m# latitudinal position of particle deployment\u001b[39;00m\n\u001b[1;32m    264\u001b[0m date       \u001b[38;5;241m=\u001b[39m sys\u001b[38;5;241m.\u001b[39margv[\u001b[38;5;241m3\u001b[39m] \u001b[38;5;66;03m# start date of simulation\u001b[39;00m\n",
      "\u001b[0;31mValueError\u001b[0m: could not convert string to float: '-f'"
     ]
    }
   ],
   "source": [
    "lost_func(10, -45, '2021/05/15 00:00:00', 1, 1, 'PIW State Unknown')"
   ]
  },
  {
   "cell_type": "code",
   "execution_count": 9,
   "id": "25427fe9",
   "metadata": {},
   "outputs": [],
   "source": [
    "lon = 10\n",
    "lat = -45 \n",
    "ttime = '2021/05/15 00:00:00'\n",
    "object_type = 'PIW State Unknown'\n"
   ]
  },
  {
   "cell_type": "code",
   "execution_count": 10,
   "id": "2a4efc89",
   "metadata": {},
   "outputs": [
    {
     "ename": "SyntaxError",
     "evalue": "invalid syntax (1472860633.py, line 1)",
     "output_type": "error",
     "traceback": [
      "\u001b[0;36m  Cell \u001b[0;32mIn [10], line 1\u001b[0;36m\u001b[0m\n\u001b[0;31m    python LOST.py lon lat ttime 2 4 object_type 'output_file'\u001b[0m\n\u001b[0m           ^\u001b[0m\n\u001b[0;31mSyntaxError\u001b[0m\u001b[0;31m:\u001b[0m invalid syntax\n"
     ]
    }
   ],
   "source": [
    "python LOST.py lon lat ttime 2 4 object_type 'output_file'"
   ]
  },
  {
   "cell_type": "code",
   "execution_count": null,
   "id": "b0f2c3e0",
   "metadata": {},
   "outputs": [],
   "source": []
  },
  {
   "cell_type": "code",
   "execution_count": null,
   "id": "99f1a29d",
   "metadata": {},
   "outputs": [],
   "source": []
  },
  {
   "cell_type": "code",
   "execution_count": null,
   "id": "3e6f30a6",
   "metadata": {},
   "outputs": [],
   "source": []
  },
  {
   "cell_type": "code",
   "execution_count": null,
   "id": "28c139ee",
   "metadata": {},
   "outputs": [],
   "source": []
  },
  {
   "cell_type": "code",
   "execution_count": null,
   "id": "4d444cfc",
   "metadata": {},
   "outputs": [],
   "source": []
  }
 ],
 "metadata": {
  "kernelspec": {
   "display_name": "Python 3 (ipykernel)",
   "language": "python",
   "name": "python3"
  },
  "language_info": {
   "codemirror_mode": {
    "name": "ipython",
    "version": 3
   },
   "file_extension": ".py",
   "mimetype": "text/x-python",
   "name": "python",
   "nbconvert_exporter": "python",
   "pygments_lexer": "ipython3",
   "version": "3.10.8"
  }
 },
 "nbformat": 4,
 "nbformat_minor": 5
}
