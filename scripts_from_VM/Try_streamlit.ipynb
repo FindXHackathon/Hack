{
 "cells": [
  {
   "cell_type": "code",
   "execution_count": 13,
   "id": "d97127b4",
   "metadata": {},
   "outputs": [],
   "source": [
    "import zarr\n",
    "import numpy as np\n",
    "import streamlit as st\n",
    "from flask import Flask\n",
    "from flask_restful import Resource, Api, reqparse\n",
    "import pandas as pd\n",
    "import ast\n",
    "app = Flask(__name__)\n",
    "api = Api(app)"
   ]
  },
  {
   "cell_type": "code",
   "execution_count": null,
   "id": "4079147e",
   "metadata": {},
   "outputs": [],
   "source": []
  },
  {
   "cell_type": "code",
   "execution_count": null,
   "id": "2afee141",
   "metadata": {},
   "outputs": [],
   "source": [
    "class Users(Resource):\n",
    "    def post(self):\n",
    "        ## Request :      \n",
    "        \n",
    "        parser = reqparse.RequestParser()  # initialize\n",
    "        \n",
    "        lon = parser.add_argument('Longitude', required=True)  # add args\n",
    "        lat = parser.add_argument('Latitude', required=True)\n",
    "        ttime = parser.add_argument('Start_Date', required=True)\n",
    "        duration = parser.add_argument('Duration', required=True) # number of days\n",
    "        radius = parser.add_argument('Deployment_radius', required=True)\n",
    "        object_type = parser.add_argument('Object_type', required=True) # choices\n",
    "        \n",
    "        args = parser.parse_args()  # parse arguments to dictionary\n",
    "\n",
    "        '''a region between 0 and 40 Longitude and -50 and -10\n",
    "        Latitude, and dates from 2021-05-15 to 2021-05-25. Hence a user will be limited to that geographic \n",
    "        extent and time period when running LOST simulations.'''\n",
    "        \n",
    "        '''In the below example a LOST simulation is run, deploying virtual particles at 10E, 45S on 15 May 2021 at 00h00. \n",
    "        The simulation will run for 2 days and deploy particles in a 4 degree radius around 10E, 45S. It will run the \n",
    "        simulation for the 'PIW State Unknown' object and write the data to 'output_file'.\n",
    "        '''\n",
    "\n",
    "\n",
    "        %run LOST-Copy1.py lon lat Date Duration Deployment_Radius Object_Type \"Output file name\"\n",
    "        \n",
    "        \n",
    "        import zarr\n",
    "        import numpy as np\n",
    "        \n",
    "        output = zarr.open('output_file.zarr')\n",
    "        \n",
    "        '''df = pd.DataFrame({'lon':a, 'lat':b, 'time':})\n",
    "        df.to_csv('out.csv', index=False)\n",
    "        outt = pd.read_csv('out.csv')\n",
    "        '''\n",
    "        \n",
    "        \n",
    "        if real_time == output_time:\n",
    "        \n",
    "        for i in range(len(output.time)):\n",
    "            map0_lon = np.mean(output.lon[0])\n",
    "            map0_lat = np.mean(output.lat[0])\n",
    "            map0_time = np.mean(output.time[0])\n",
    "            \n",
    "            \n",
    "\n",
    "\n",
    "            vizualize the (map0_lon, map0_lat, map0_time)\n",
    "\n",
    "            plot(map0)\n",
    "            \n",
    "            delay(3s)\n",
    "            \n",
    "            p = i\n",
    "            \n",
    "            if i == p+1:\n",
    "                mapi_lon = np.mean(output.lon[i])\n",
    "                mapi_lat = np.mean(output.lat[i])\n",
    "                mapi_lat = np.mean(output.time[i])\n",
    "                \n",
    "                vizualize the ((map0_lon, map0_lat, map0_time), (mapi_lon, mapi_lat, mapi_time))              \n",
    "        \n",
    "        return ()"
   ]
  },
  {
   "cell_type": "code",
   "execution_count": null,
   "id": "b7ac39ab",
   "metadata": {},
   "outputs": [],
   "source": []
  },
  {
   "cell_type": "code",
   "execution_count": null,
   "id": "e66c2bd5",
   "metadata": {},
   "outputs": [],
   "source": []
  },
  {
   "cell_type": "code",
   "execution_count": 15,
   "id": "886783b4",
   "metadata": {},
   "outputs": [
    {
     "ename": "SyntaxError",
     "evalue": "invalid syntax (3136334692.py, line 25)",
     "output_type": "error",
     "traceback": [
      "\u001b[0;36m  Cell \u001b[0;32mIn [15], line 25\u001b[0;36m\u001b[0m\n\u001b[0;31m    python LOST-Copy1.py lon lat ttime duration radius object_type 'output_file'\u001b[0m\n\u001b[0m           ^\u001b[0m\n\u001b[0;31mSyntaxError\u001b[0m\u001b[0;31m:\u001b[0m invalid syntax\n"
     ]
    }
   ],
   "source": [
    "class Users(Resource):\n",
    "    def post(self):\n",
    "        ## Request :      \n",
    "        \n",
    "        parser = reqparse.RequestParser()  # initialize\n",
    "        \n",
    "        lon = parser.add_argument('Longitude', required=True)  # add args\n",
    "        lat = parser.add_argument('Latitude', required=True)\n",
    "        ttime = parser.add_argument('Start_Date', required=True)\n",
    "        duration = parser.add_argument('Duration', required=True) # number of days\n",
    "        radius = parser.add_argument('Deployment_radius', required=True)\n",
    "        object_type = parser.add_argument('Object_type', required=True) # choices\n",
    "        \n",
    "        args = parser.parse_args()  # parse arguments to dictionary\n",
    "\n",
    "        '''a region between 0 and 40 Longitude and -50 and -10\n",
    "        Latitude, and dates from 2021-05-15 to 2021-05-25. Hence a user will be limited to that geographic \n",
    "        extent and time period when running LOST simulations.'''\n",
    "        \n",
    "        '''In the below example a LOST simulation is run, deploying virtual particles at 10E, 45S on 15 May 2021 at 00h00. \n",
    "The simulation will run for 2 days and deploy particles in a 4 degree radius around 10E, 45S. It will run the \n",
    "simulation for the 'PIW State Unknown' object and write the data to 'output_file'.\n",
    "'''\n",
    "\n",
    "        python LOST-Copy1.py lon lat ttime duration radius object_type 'output_file'\n",
    "        \n",
    "        \n",
    "        import zarr\n",
    "        import numpy as np\n",
    "        \n",
    "        output = zarr.open('output_file.zarr')\n",
    "        \n",
    "        '''df = pd.DataFrame({'lon':a, 'lat':b, 'time':})\n",
    "        df.to_csv('out.csv', index=False)\n",
    "        outt = pd.read_csv('out.csv')\n",
    "        '''\n",
    "\n",
    "        fig, ax= plt.subplots(1, figsize=[10,3]) \n",
    "    \n",
    "        img0 = ax.imshow(odata.uo[11][0], extent=(odata.longitude.min().values, odata.longitude.max().values, odata.latitude.min().values, odata.latitude.max().values), origin='lower')\n",
    "        plt.colorbar(img0, ax=ax)\n",
    "    \n",
    "        ax.plot([5], [-15], 'r.')\n",
    "    \n",
    "        \n",
    "        \n",
    "        #if real_time == output_time:\n",
    "        \n",
    "        #for i in range(len(output.time)):\n",
    "        #    map0_lon = np.mean(output.lon[0])\n",
    "        #    map0_lat = np.mean(output.lat[0])\n",
    "        #    map0_time = np.mean(output.time[0])\n",
    "            \n",
    "            \n",
    "\n",
    "         #   call google api\n",
    "\n",
    "#            vizualize the (map0_lon, map0_lat, map0_time)\n",
    "\n",
    "#            plot(map0)\n",
    "            \n",
    "#            delay(3s)\n",
    "            \n",
    "#            p = i\n",
    "            \n",
    "#            if i == p+1:\n",
    "#                mapi_lon = np.mean(output.lon[i])\n",
    "#                mapi_lat = np.mean(output.lat[i])\n",
    "#                mapi_lat = np.mean(output.time[i])\n",
    "                \n",
    "#                vizualize the ((map0_lon, map0_lat, map0_time), (mapi_lon, mapi_lat, mapi_time))              \n",
    "        \n",
    "        return"
   ]
  },
  {
   "cell_type": "code",
   "execution_count": null,
   "id": "5248bed7",
   "metadata": {},
   "outputs": [],
   "source": []
  },
  {
   "cell_type": "code",
   "execution_count": null,
   "id": "89e419c5",
   "metadata": {},
   "outputs": [],
   "source": []
  },
  {
   "cell_type": "code",
   "execution_count": null,
   "id": "8340d981",
   "metadata": {},
   "outputs": [],
   "source": []
  },
  {
   "cell_type": "code",
   "execution_count": null,
   "id": "bc00b616",
   "metadata": {},
   "outputs": [],
   "source": [
    "python LOST.py lon lat ttime duration radius object_type 'output_file'\n"
   ]
  },
  {
   "cell_type": "code",
   "execution_count": null,
   "id": "e2c0093d",
   "metadata": {},
   "outputs": [],
   "source": []
  },
  {
   "cell_type": "code",
   "execution_count": 2,
   "id": "9a24fbd4",
   "metadata": {},
   "outputs": [],
   "source": [
    "st.set_page_config(\n",
    "    page_title=\"To the rescue\",\n",
    "    )"
   ]
  },
  {
   "cell_type": "code",
   "execution_count": 3,
   "id": "3fe0afba",
   "metadata": {},
   "outputs": [
    {
     "name": "stderr",
     "output_type": "stream",
     "text": [
      "2022-12-03 03:39:15.444 \n",
      "  \u001b[33m\u001b[1mWarning:\u001b[0m to view this Streamlit app on a browser, run it with the following\n",
      "  command:\n",
      "\n",
      "    streamlit run /home/hacker/miniconda3/envs/lost_hackathon/lib/python3.10/site-packages/ipykernel_launcher.py [ARGUMENTS]\n"
     ]
    },
    {
     "data": {
      "text/plain": [
       "DeltaGenerator(_root_container=1, _provided_cursor=None, _parent=DeltaGenerator(_root_container=0, _provided_cursor=None, _parent=None, _block_type=None, _form_data=None), _block_type=None, _form_data=None)"
      ]
     },
     "execution_count": 3,
     "metadata": {},
     "output_type": "execute_result"
    }
   ],
   "source": [
    "st.title(\"LOST Find\")\n",
    "st.sidebar.success(\"Select a page above.\")"
   ]
  },
  {
   "cell_type": "code",
   "execution_count": 4,
   "id": "9eae68ca",
   "metadata": {},
   "outputs": [],
   "source": [
    "out = zarr.open('output_file.zarr')"
   ]
  },
  {
   "cell_type": "code",
   "execution_count": 6,
   "id": "3f4efc2f",
   "metadata": {},
   "outputs": [
    {
     "data": {
      "text/plain": [
       "array([6.       , 6.0004296, 6.0017195, 6.003873 , 6.0068946, 6.0103955,\n",
       "       6.013982 , 6.0176544, 6.0214143, 6.0252542, 6.0291677, 6.033155 ,\n",
       "       6.0372167, 6.0413413, 6.0455174, 6.049745 , 6.054025 , 6.058344 ,\n",
       "       6.0626864, 6.0670533, 6.0714445, 6.0758495, 6.0802574, 6.084668 ,\n",
       "       6.089083 , 6.093494 , 6.097891 , 6.1022735, 6.106642 , 6.110991 ,\n",
       "       6.1153164, 6.1196175, 6.1238933, 6.128145 , 6.132374 , 6.1365786,\n",
       "       6.1407585, 6.144925 , 6.149091 , 6.153254 , 6.1574144, 6.161571 ,\n",
       "       6.165723 , 6.169871 , 6.174017 , 6.178172 , 6.182348 , 6.1865435,\n",
       "       6.1907587, 6.195001 , 6.199279 , 6.2035913, 6.2079387, 6.212328 ,\n",
       "       6.216767 , 6.221256 , 6.2257953, 6.23039  , 6.2350454, 6.2397623,\n",
       "       6.244541 , 6.2493834, 6.254292 , 6.2592683, 6.264313 , 6.269416 ,\n",
       "       6.2745657, 6.279763 , 6.285009 , 6.29029  , 6.2955937, 6.30092  ,\n",
       "       6.306269 , 6.3116193, 6.3169484, 6.3222566, 6.3275437, 6.3327937,\n",
       "       6.337989 , 6.3431277, 6.348211 , 6.3532386, 6.3582115, 6.3631296,\n",
       "       6.3679934, 6.3728004, 6.3775487, 6.382239 , 6.3868704, 6.391451 ,\n",
       "       6.395989 , 6.4004846, 6.4049373, 6.4093537, 6.41374  , 6.4180965,\n",
       "       6.422421 , 6.426725 , 6.43102  , 6.4353056, 6.4395823, 6.443861 ,\n",
       "       6.448153 , 6.4524584, 6.4567776, 6.461116 , 6.4654784, 6.469866 ,\n",
       "       6.4742775, 6.4787226, 6.483209 , 6.4877377, 6.4923077, 6.496929 ,\n",
       "       6.5016117, 6.506353 , 6.511152 , 6.5160127, 6.52094  , 6.525933 ,\n",
       "       6.530991 , 6.536117 , 6.5413127, 6.5465775, 6.5519114, 6.5573106,\n",
       "       6.5627723, 6.5682964, 6.5738826, 6.5795293, 6.5852346, 6.590995 ,\n",
       "       6.5968084, 6.6026716, 6.60858  , 6.6145344, 6.6205344, 6.626579 ,\n",
       "       6.632666 , 6.638797 , 6.644972 , 6.6511793, 6.6574078, 6.6636577,\n",
       "       6.6699295, 6.6762094, 6.682489 , 6.6887684, 6.695048 , 6.701321 ,\n",
       "       6.707581 , 6.713828 , 6.7200627, 6.7262836, 6.7324886, 6.738679 ,\n",
       "       6.7448545, 6.751017 , 6.757166 , 6.7632985, 6.769415 , 6.7755194,\n",
       "       6.7816153, 6.7877026, 6.7937813, 6.7998557, 6.805929 , 6.8120017,\n",
       "       6.8180737, 6.824149 , 6.8302326, 6.8363237, 6.842418 , 6.848521 ,\n",
       "       6.854639 , 6.8607717, 6.866919 , 6.873085 , 6.8792725, 6.8854814,\n",
       "       6.891712 , 6.897961 , 6.9042253, 6.9105043, 6.916798 , 6.923111 ,\n",
       "       6.9294477, 6.9358077, 6.942191 , 6.948596 , 6.9550204, 6.9614644,\n",
       "       6.967928 ], dtype=float32)"
      ]
     },
     "execution_count": 6,
     "metadata": {},
     "output_type": "execute_result"
    }
   ],
   "source": [
    "out.lon[0]"
   ]
  },
  {
   "cell_type": "code",
   "execution_count": null,
   "id": "541dd94c",
   "metadata": {},
   "outputs": [],
   "source": []
  },
  {
   "cell_type": "code",
   "execution_count": null,
   "id": "573dbd8d",
   "metadata": {},
   "outputs": [],
   "source": []
  },
  {
   "cell_type": "code",
   "execution_count": null,
   "id": "04ca1d1a",
   "metadata": {},
   "outputs": [],
   "source": []
  },
  {
   "cell_type": "code",
   "execution_count": null,
   "id": "ceb01541",
   "metadata": {},
   "outputs": [],
   "source": []
  }
 ],
 "metadata": {
  "kernelspec": {
   "display_name": "Python 3 (ipykernel)",
   "language": "python",
   "name": "python3"
  },
  "language_info": {
   "codemirror_mode": {
    "name": "ipython",
    "version": 3
   },
   "file_extension": ".py",
   "mimetype": "text/x-python",
   "name": "python",
   "nbconvert_exporter": "python",
   "pygments_lexer": "ipython3",
   "version": "3.10.8"
  }
 },
 "nbformat": 4,
 "nbformat_minor": 5
}
